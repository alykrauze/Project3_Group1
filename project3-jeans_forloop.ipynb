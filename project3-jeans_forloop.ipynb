{
 "cells": [
  {
   "cell_type": "code",
   "execution_count": 4,
   "id": "b80cc77c",
   "metadata": {},
   "outputs": [],
   "source": [
    "from splinter import Browser\n",
    "from bs4 import BeautifulSoup as soup\n",
    "import pandas as pd"
   ]
  },
  {
   "cell_type": "code",
   "execution_count": 5,
   "id": "7ac788c1",
   "metadata": {},
   "outputs": [],
   "source": [
    "# Set up Splinter\n",
    "browser = Browser('chrome')"
   ]
  },
  {
   "cell_type": "code",
   "execution_count": 6,
   "id": "bdbd365b",
   "metadata": {},
   "outputs": [],
   "source": [
    "#url maison margiela https://www.ssense.com/en-us/women/designers/mm6-maison-margiela/jeans\n",
    "#url diesel https://www.ssense.com/en-us/women/designers/diesel/jeans\n",
    "#url blumarine https://www.ssense.com/en-us/women/designers/blumarine/jeans"
   ]
  },
  {
   "cell_type": "code",
   "execution_count": 7,
   "id": "44cb74a7",
   "metadata": {},
   "outputs": [],
   "source": [
    "# Visit the Quotes to Scrape site\n",
    "url = 'https://www.ssense.com/en-us/women/designers/mm6-maison-margiela/jeans'\n",
    "browser.visit(url)"
   ]
  },
  {
   "cell_type": "code",
   "execution_count": 9,
   "id": "cff67198",
   "metadata": {},
   "outputs": [
    {
     "name": "stdout",
     "output_type": "stream",
     "text": [
      "['$455', '$545', '$410', '$390', '$390', '$475', '$390', '$314', '$271', '$363', '$308', '$332', '$321', '$358', '$281', '$358', '$281']\n"
     ]
    }
   ],
   "source": [
    "# Parse the HTML\n",
    "html = browser.html\n",
    "html_soup = soup(html, 'html.parser')\n",
    "mm_jeans_prices = []\n",
    "for i in range(0, 17):\n",
    "    mm_jeans_price = html_soup.find('span', class_='s-text', attrs={'data-test': f'productCurrentPrice{i}'})\n",
    "    if mm_jeans_price:\n",
    "        mm_jeans_prices.append(mm_jeans_price.text.strip())\n",
    "    else:\n",
    "        print(f'Error: price {i} not found.')\n",
    "\n",
    "print(mm_jeans_prices)"
   ]
  },
  {
   "cell_type": "code",
   "execution_count": 10,
   "id": "ea673baa",
   "metadata": {},
   "outputs": [
    {
     "name": "stderr",
     "output_type": "stream",
     "text": [
      "/var/folders/c9/9w8x95jd1f5fjjhn66vbs76c0000gn/T/ipykernel_1720/961204060.py:2: FutureWarning: The default value of regex will change from True to False in a future version. In addition, single character regular expressions will *not* be treated as literal strings when regex=True.\n",
      "  jeans_df['MM6'] = jeans_df['MM6'].str.replace('$','').astype(int)\n"
     ]
    },
    {
     "data": {
      "text/html": [
       "<div>\n",
       "<style scoped>\n",
       "    .dataframe tbody tr th:only-of-type {\n",
       "        vertical-align: middle;\n",
       "    }\n",
       "\n",
       "    .dataframe tbody tr th {\n",
       "        vertical-align: top;\n",
       "    }\n",
       "\n",
       "    .dataframe thead th {\n",
       "        text-align: right;\n",
       "    }\n",
       "</style>\n",
       "<table border=\"1\" class=\"dataframe\">\n",
       "  <thead>\n",
       "    <tr style=\"text-align: right;\">\n",
       "      <th></th>\n",
       "      <th>MM6</th>\n",
       "    </tr>\n",
       "  </thead>\n",
       "  <tbody>\n",
       "    <tr>\n",
       "      <th>0</th>\n",
       "      <td>455</td>\n",
       "    </tr>\n",
       "    <tr>\n",
       "      <th>1</th>\n",
       "      <td>545</td>\n",
       "    </tr>\n",
       "    <tr>\n",
       "      <th>2</th>\n",
       "      <td>410</td>\n",
       "    </tr>\n",
       "    <tr>\n",
       "      <th>3</th>\n",
       "      <td>390</td>\n",
       "    </tr>\n",
       "    <tr>\n",
       "      <th>4</th>\n",
       "      <td>390</td>\n",
       "    </tr>\n",
       "    <tr>\n",
       "      <th>5</th>\n",
       "      <td>475</td>\n",
       "    </tr>\n",
       "    <tr>\n",
       "      <th>6</th>\n",
       "      <td>390</td>\n",
       "    </tr>\n",
       "    <tr>\n",
       "      <th>7</th>\n",
       "      <td>314</td>\n",
       "    </tr>\n",
       "    <tr>\n",
       "      <th>8</th>\n",
       "      <td>271</td>\n",
       "    </tr>\n",
       "    <tr>\n",
       "      <th>9</th>\n",
       "      <td>363</td>\n",
       "    </tr>\n",
       "    <tr>\n",
       "      <th>10</th>\n",
       "      <td>308</td>\n",
       "    </tr>\n",
       "    <tr>\n",
       "      <th>11</th>\n",
       "      <td>332</td>\n",
       "    </tr>\n",
       "    <tr>\n",
       "      <th>12</th>\n",
       "      <td>321</td>\n",
       "    </tr>\n",
       "    <tr>\n",
       "      <th>13</th>\n",
       "      <td>358</td>\n",
       "    </tr>\n",
       "    <tr>\n",
       "      <th>14</th>\n",
       "      <td>281</td>\n",
       "    </tr>\n",
       "    <tr>\n",
       "      <th>15</th>\n",
       "      <td>358</td>\n",
       "    </tr>\n",
       "    <tr>\n",
       "      <th>16</th>\n",
       "      <td>281</td>\n",
       "    </tr>\n",
       "  </tbody>\n",
       "</table>\n",
       "</div>"
      ],
      "text/plain": [
       "    MM6\n",
       "0   455\n",
       "1   545\n",
       "2   410\n",
       "3   390\n",
       "4   390\n",
       "5   475\n",
       "6   390\n",
       "7   314\n",
       "8   271\n",
       "9   363\n",
       "10  308\n",
       "11  332\n",
       "12  321\n",
       "13  358\n",
       "14  281\n",
       "15  358\n",
       "16  281"
      ]
     },
     "execution_count": 10,
     "metadata": {},
     "output_type": "execute_result"
    }
   ],
   "source": [
    "jeans_df = pd.DataFrame(mm_jeans_prices, columns=[\"MM6\"])\n",
    "jeans_df['MM6'] = jeans_df['MM6'].str.replace('$','').astype(int)\n",
    "jeans_df"
   ]
  },
  {
   "cell_type": "code",
   "execution_count": 12,
   "id": "3a27db43",
   "metadata": {},
   "outputs": [
    {
     "name": "stdout",
     "output_type": "stream",
     "text": [
      "The minimum price for a MM6 tshirt is $271.\n",
      "The maxiumum price for a MM6 tshirt is $545.\n",
      "The average price for a MM6 tshirt is $367.18.\n"
     ]
    }
   ],
   "source": [
    "mm_jeans_min = jeans_df['MM6'].min()\n",
    "print(f'The minimum price for a MM6 tshirt is ${mm_jeans_min}.')\n",
    "\n",
    "mm_jeans_max = jeans_df['MM6'].max()\n",
    "print(f'The maxiumum price for a MM6 tshirt is ${mm_jeans_max}.')\n",
    "\n",
    "mm_jeans_avg = jeans_df['MM6'].mean()\n",
    "print(f'The average price for a MM6 tshirt is ${round(mm_jeans_avg,2)}.')"
   ]
  },
  {
   "cell_type": "code",
   "execution_count": 13,
   "id": "8d77b28c",
   "metadata": {},
   "outputs": [],
   "source": [
    "browser.quit()"
   ]
  },
  {
   "cell_type": "code",
   "execution_count": 14,
   "id": "42f18128",
   "metadata": {},
   "outputs": [],
   "source": [
    "csv_filename = 'mm6_jeans.csv'\n",
    "jeans_df.to_csv(csv_filename, index=False)"
   ]
  },
  {
   "cell_type": "code",
   "execution_count": 17,
   "id": "e3b6a1b6",
   "metadata": {},
   "outputs": [],
   "source": [
    "#visiting other brand on the site \n",
    "browser = Browser('chrome')\n",
    "url_2 = 'https://www.ssense.com/en-us/women/designers/diesel/jeans'\n",
    "browser.visit(url_2)"
   ]
  },
  {
   "cell_type": "code",
   "execution_count": 18,
   "id": "d5bdd472",
   "metadata": {},
   "outputs": [
    {
     "name": "stdout",
     "output_type": "stream",
     "text": [
      "['$335', '$355', '$250', '$405', '$375', '$359', '$414', '$679', '$169', '$276', '$314', '$110', '$101', '$154', '$110', '$101', '$405']\n"
     ]
    }
   ],
   "source": [
    "html = browser.html\n",
    "html_soup = soup(html, 'html.parser')\n",
    "\n",
    "diesel_jeans_prices = []\n",
    "for i in range(0, 17):\n",
    "    diesel_jeans_price = html_soup.find('span', class_='s-text', attrs={'data-test': f'productCurrentPrice{i}'})\n",
    "    if diesel_jeans_price:\n",
    "        diesel_jeans_prices.append(diesel_jeans_price.text.strip())\n",
    "    else:\n",
    "        print(f'Error: price {i} not found.')\n",
    "\n",
    "print(diesel_jeans_prices)"
   ]
  },
  {
   "cell_type": "code",
   "execution_count": 21,
   "id": "46caf1fc",
   "metadata": {},
   "outputs": [
    {
     "name": "stderr",
     "output_type": "stream",
     "text": [
      "/var/folders/c9/9w8x95jd1f5fjjhn66vbs76c0000gn/T/ipykernel_1720/3979445661.py:2: FutureWarning: The default value of regex will change from True to False in a future version. In addition, single character regular expressions will *not* be treated as literal strings when regex=True.\n",
      "  dieseljeans_df['Diesel'] = dieseljeans_df['Diesel'].str.replace('$','').astype(int)\n"
     ]
    }
   ],
   "source": [
    "dieseljeans_df = pd.DataFrame(diesel_jeans_prices, columns=[\"Diesel\"])\n",
    "dieseljeans_df['Diesel'] = dieseljeans_df['Diesel'].str.replace('$','').astype(int)\n",
    "csv_filename = 'diesel_jeans.csv'\n",
    "dieseljeans_df.to_csv(csv_filename, index=False)"
   ]
  },
  {
   "cell_type": "code",
   "execution_count": 22,
   "id": "5352281b",
   "metadata": {},
   "outputs": [
    {
     "name": "stderr",
     "output_type": "stream",
     "text": [
      "/var/folders/c9/9w8x95jd1f5fjjhn66vbs76c0000gn/T/ipykernel_1720/2180743122.py:2: FutureWarning: The default value of regex will change from True to False in a future version. In addition, single character regular expressions will *not* be treated as literal strings when regex=True.\n",
      "  jeans_df['diesel'] = jeans_df['diesel'].str.replace('$','').astype(int).fillna(0)\n"
     ]
    },
    {
     "data": {
      "text/html": [
       "<div>\n",
       "<style scoped>\n",
       "    .dataframe tbody tr th:only-of-type {\n",
       "        vertical-align: middle;\n",
       "    }\n",
       "\n",
       "    .dataframe tbody tr th {\n",
       "        vertical-align: top;\n",
       "    }\n",
       "\n",
       "    .dataframe thead th {\n",
       "        text-align: right;\n",
       "    }\n",
       "</style>\n",
       "<table border=\"1\" class=\"dataframe\">\n",
       "  <thead>\n",
       "    <tr style=\"text-align: right;\">\n",
       "      <th></th>\n",
       "      <th>MM6</th>\n",
       "      <th>diesel</th>\n",
       "    </tr>\n",
       "  </thead>\n",
       "  <tbody>\n",
       "    <tr>\n",
       "      <th>0</th>\n",
       "      <td>455</td>\n",
       "      <td>335</td>\n",
       "    </tr>\n",
       "    <tr>\n",
       "      <th>1</th>\n",
       "      <td>545</td>\n",
       "      <td>355</td>\n",
       "    </tr>\n",
       "    <tr>\n",
       "      <th>2</th>\n",
       "      <td>410</td>\n",
       "      <td>250</td>\n",
       "    </tr>\n",
       "    <tr>\n",
       "      <th>3</th>\n",
       "      <td>390</td>\n",
       "      <td>405</td>\n",
       "    </tr>\n",
       "    <tr>\n",
       "      <th>4</th>\n",
       "      <td>390</td>\n",
       "      <td>375</td>\n",
       "    </tr>\n",
       "    <tr>\n",
       "      <th>5</th>\n",
       "      <td>475</td>\n",
       "      <td>359</td>\n",
       "    </tr>\n",
       "    <tr>\n",
       "      <th>6</th>\n",
       "      <td>390</td>\n",
       "      <td>414</td>\n",
       "    </tr>\n",
       "    <tr>\n",
       "      <th>7</th>\n",
       "      <td>314</td>\n",
       "      <td>679</td>\n",
       "    </tr>\n",
       "    <tr>\n",
       "      <th>8</th>\n",
       "      <td>271</td>\n",
       "      <td>169</td>\n",
       "    </tr>\n",
       "    <tr>\n",
       "      <th>9</th>\n",
       "      <td>363</td>\n",
       "      <td>276</td>\n",
       "    </tr>\n",
       "    <tr>\n",
       "      <th>10</th>\n",
       "      <td>308</td>\n",
       "      <td>314</td>\n",
       "    </tr>\n",
       "    <tr>\n",
       "      <th>11</th>\n",
       "      <td>332</td>\n",
       "      <td>110</td>\n",
       "    </tr>\n",
       "    <tr>\n",
       "      <th>12</th>\n",
       "      <td>321</td>\n",
       "      <td>101</td>\n",
       "    </tr>\n",
       "    <tr>\n",
       "      <th>13</th>\n",
       "      <td>358</td>\n",
       "      <td>154</td>\n",
       "    </tr>\n",
       "    <tr>\n",
       "      <th>14</th>\n",
       "      <td>281</td>\n",
       "      <td>110</td>\n",
       "    </tr>\n",
       "    <tr>\n",
       "      <th>15</th>\n",
       "      <td>358</td>\n",
       "      <td>101</td>\n",
       "    </tr>\n",
       "    <tr>\n",
       "      <th>16</th>\n",
       "      <td>281</td>\n",
       "      <td>405</td>\n",
       "    </tr>\n",
       "  </tbody>\n",
       "</table>\n",
       "</div>"
      ],
      "text/plain": [
       "    MM6  diesel\n",
       "0   455     335\n",
       "1   545     355\n",
       "2   410     250\n",
       "3   390     405\n",
       "4   390     375\n",
       "5   475     359\n",
       "6   390     414\n",
       "7   314     679\n",
       "8   271     169\n",
       "9   363     276\n",
       "10  308     314\n",
       "11  332     110\n",
       "12  321     101\n",
       "13  358     154\n",
       "14  281     110\n",
       "15  358     101\n",
       "16  281     405"
      ]
     },
     "execution_count": 22,
     "metadata": {},
     "output_type": "execute_result"
    }
   ],
   "source": [
    "jeans_df['diesel'] = diesel_jeans_prices\n",
    "jeans_df['diesel'] = jeans_df['diesel'].str.replace('$','').astype(int).fillna(0)\n",
    "jeans_df"
   ]
  },
  {
   "cell_type": "code",
   "execution_count": 24,
   "id": "f8f9a2ca",
   "metadata": {},
   "outputs": [
    {
     "name": "stdout",
     "output_type": "stream",
     "text": [
      "The minimum price for a Diesel tshirt is $101.\n",
      "The maxiumum price for a Diesel tshirt is $679.\n",
      "The average price for a Diesel tshirt is $288.94.\n"
     ]
    }
   ],
   "source": [
    "diesel_jeans_min = jeans_df['diesel'].min()\n",
    "print(f'The minimum price for a Diesel tshirt is ${diesel_jeans_min}.')\n",
    "\n",
    "diesel_jeans_max = jeans_df['diesel'].max()\n",
    "print(f'The maxiumum price for a Diesel tshirt is ${diesel_jeans_max}.')\n",
    "\n",
    "diesel_jeans_avg = jeans_df['diesel'].mean()\n",
    "print(f'The average price for a Diesel tshirt is ${round(diesel_jeans_avg,2)}.')"
   ]
  },
  {
   "cell_type": "code",
   "execution_count": 25,
   "id": "9a35bcb7",
   "metadata": {},
   "outputs": [],
   "source": [
    "browser.quit()"
   ]
  },
  {
   "cell_type": "code",
   "execution_count": 26,
   "id": "ae9ebf72",
   "metadata": {},
   "outputs": [],
   "source": [
    "browser = Browser('chrome')\n",
    "url_3 = 'https://www.ssense.com/en-us/women/designers/blumarine/jeans'\n",
    "browser.visit(url_3)"
   ]
  },
  {
   "cell_type": "code",
   "execution_count": 27,
   "id": "2142e931",
   "metadata": {},
   "outputs": [
    {
     "name": "stdout",
     "output_type": "stream",
     "text": [
      "['$1295', '$1040', '$485', '$848', '$542', '$792', '$765', '$703', '$330', '$429', '$374', '$501', '$131', '$230', '$150', '$246', '$174']\n"
     ]
    }
   ],
   "source": [
    "html = browser.html\n",
    "html_soup = soup(html, 'html.parser')\n",
    "\n",
    "blu_jeans_prices = []\n",
    "for i in range(0, 17):\n",
    "    blu_jeans_price = html_soup.find('span', class_='s-text', attrs={'data-test': f'productCurrentPrice{i}'})\n",
    "    if blu_jeans_price:\n",
    "        blu_jeans_prices.append(blu_jeans_price.text.strip())\n",
    "    else:\n",
    "        print(f'Error: price {i} not found.')\n",
    "\n",
    "print(blu_jeans_prices)"
   ]
  },
  {
   "cell_type": "code",
   "execution_count": 40,
   "id": "bdbf6649",
   "metadata": {},
   "outputs": [
    {
     "name": "stdout",
     "output_type": "stream",
     "text": [
      "    Blumarine\n",
      "0        1295\n",
      "1        1040\n",
      "2         485\n",
      "3         848\n",
      "4         542\n",
      "5         792\n",
      "6         765\n",
      "7         703\n",
      "8         330\n",
      "9         429\n",
      "10        374\n",
      "11        501\n",
      "12        131\n",
      "13        230\n",
      "14        150\n",
      "15        246\n",
      "16        174\n"
     ]
    },
    {
     "name": "stderr",
     "output_type": "stream",
     "text": [
      "/var/folders/c9/9w8x95jd1f5fjjhn66vbs76c0000gn/T/ipykernel_1720/1179537967.py:2: FutureWarning: The default value of regex will change from True to False in a future version. In addition, single character regular expressions will *not* be treated as literal strings when regex=True.\n",
      "  blu_jeans_df['Blumarine'] = blu_jeans_df['Blumarine'].str.replace('$','').astype(int)\n"
     ]
    }
   ],
   "source": [
    "blu_jeans_df = pd.DataFrame(blu_jeans_prices, columns=[\"Blumarine\"])\n",
    "blu_jeans_df['Blumarine'] = blu_jeans_df['Blumarine'].str.replace('$','').astype(int)\n",
    "print(blu_jeans_df)\n",
    "csv_filename = 'blumarine_jeans.csv'\n",
    "blu_jeans_df.to_csv(csv_filename, index=False)"
   ]
  },
  {
   "cell_type": "code",
   "execution_count": 32,
   "id": "7a710ced",
   "metadata": {},
   "outputs": [
    {
     "name": "stderr",
     "output_type": "stream",
     "text": [
      "/var/folders/c9/9w8x95jd1f5fjjhn66vbs76c0000gn/T/ipykernel_1720/2708534361.py:2: FutureWarning: The default value of regex will change from True to False in a future version. In addition, single character regular expressions will *not* be treated as literal strings when regex=True.\n",
      "  jeans_df['blumarine'] = jeans_df['blumarine'].str.replace('$','').astype(int)\n"
     ]
    },
    {
     "data": {
      "text/html": [
       "<div>\n",
       "<style scoped>\n",
       "    .dataframe tbody tr th:only-of-type {\n",
       "        vertical-align: middle;\n",
       "    }\n",
       "\n",
       "    .dataframe tbody tr th {\n",
       "        vertical-align: top;\n",
       "    }\n",
       "\n",
       "    .dataframe thead th {\n",
       "        text-align: right;\n",
       "    }\n",
       "</style>\n",
       "<table border=\"1\" class=\"dataframe\">\n",
       "  <thead>\n",
       "    <tr style=\"text-align: right;\">\n",
       "      <th></th>\n",
       "      <th>MM6</th>\n",
       "      <th>diesel</th>\n",
       "      <th>blumarine</th>\n",
       "    </tr>\n",
       "  </thead>\n",
       "  <tbody>\n",
       "    <tr>\n",
       "      <th>0</th>\n",
       "      <td>455</td>\n",
       "      <td>335</td>\n",
       "      <td>1295</td>\n",
       "    </tr>\n",
       "    <tr>\n",
       "      <th>1</th>\n",
       "      <td>545</td>\n",
       "      <td>355</td>\n",
       "      <td>1040</td>\n",
       "    </tr>\n",
       "    <tr>\n",
       "      <th>2</th>\n",
       "      <td>410</td>\n",
       "      <td>250</td>\n",
       "      <td>485</td>\n",
       "    </tr>\n",
       "    <tr>\n",
       "      <th>3</th>\n",
       "      <td>390</td>\n",
       "      <td>405</td>\n",
       "      <td>848</td>\n",
       "    </tr>\n",
       "    <tr>\n",
       "      <th>4</th>\n",
       "      <td>390</td>\n",
       "      <td>375</td>\n",
       "      <td>542</td>\n",
       "    </tr>\n",
       "    <tr>\n",
       "      <th>5</th>\n",
       "      <td>475</td>\n",
       "      <td>359</td>\n",
       "      <td>792</td>\n",
       "    </tr>\n",
       "    <tr>\n",
       "      <th>6</th>\n",
       "      <td>390</td>\n",
       "      <td>414</td>\n",
       "      <td>765</td>\n",
       "    </tr>\n",
       "    <tr>\n",
       "      <th>7</th>\n",
       "      <td>314</td>\n",
       "      <td>679</td>\n",
       "      <td>703</td>\n",
       "    </tr>\n",
       "    <tr>\n",
       "      <th>8</th>\n",
       "      <td>271</td>\n",
       "      <td>169</td>\n",
       "      <td>330</td>\n",
       "    </tr>\n",
       "    <tr>\n",
       "      <th>9</th>\n",
       "      <td>363</td>\n",
       "      <td>276</td>\n",
       "      <td>429</td>\n",
       "    </tr>\n",
       "    <tr>\n",
       "      <th>10</th>\n",
       "      <td>308</td>\n",
       "      <td>314</td>\n",
       "      <td>374</td>\n",
       "    </tr>\n",
       "    <tr>\n",
       "      <th>11</th>\n",
       "      <td>332</td>\n",
       "      <td>110</td>\n",
       "      <td>501</td>\n",
       "    </tr>\n",
       "    <tr>\n",
       "      <th>12</th>\n",
       "      <td>321</td>\n",
       "      <td>101</td>\n",
       "      <td>131</td>\n",
       "    </tr>\n",
       "    <tr>\n",
       "      <th>13</th>\n",
       "      <td>358</td>\n",
       "      <td>154</td>\n",
       "      <td>230</td>\n",
       "    </tr>\n",
       "    <tr>\n",
       "      <th>14</th>\n",
       "      <td>281</td>\n",
       "      <td>110</td>\n",
       "      <td>150</td>\n",
       "    </tr>\n",
       "    <tr>\n",
       "      <th>15</th>\n",
       "      <td>358</td>\n",
       "      <td>101</td>\n",
       "      <td>246</td>\n",
       "    </tr>\n",
       "    <tr>\n",
       "      <th>16</th>\n",
       "      <td>281</td>\n",
       "      <td>405</td>\n",
       "      <td>174</td>\n",
       "    </tr>\n",
       "  </tbody>\n",
       "</table>\n",
       "</div>"
      ],
      "text/plain": [
       "    MM6  diesel  blumarine\n",
       "0   455     335       1295\n",
       "1   545     355       1040\n",
       "2   410     250        485\n",
       "3   390     405        848\n",
       "4   390     375        542\n",
       "5   475     359        792\n",
       "6   390     414        765\n",
       "7   314     679        703\n",
       "8   271     169        330\n",
       "9   363     276        429\n",
       "10  308     314        374\n",
       "11  332     110        501\n",
       "12  321     101        131\n",
       "13  358     154        230\n",
       "14  281     110        150\n",
       "15  358     101        246\n",
       "16  281     405        174"
      ]
     },
     "execution_count": 32,
     "metadata": {},
     "output_type": "execute_result"
    }
   ],
   "source": [
    "jeans_df['blumarine'] = blu_jeans_prices\n",
    "jeans_df['blumarine'] = jeans_df['blumarine'].str.replace('$','').astype(int)\n",
    "jeans_df"
   ]
  },
  {
   "cell_type": "code",
   "execution_count": 34,
   "id": "ab4d7082",
   "metadata": {},
   "outputs": [
    {
     "name": "stdout",
     "output_type": "stream",
     "text": [
      "The minimum price for a Diesel tshirt is $131.\n",
      "The maxiumum price for a Diesel tshirt is $1295.\n",
      "The average price for a Diesel tshirt is $531.47.\n"
     ]
    }
   ],
   "source": [
    "blu_jeans_min = jeans_df['blumarine'].min()\n",
    "print(f'The minimum price for a Diesel tshirt is ${blu_jeans_min}.')\n",
    "\n",
    "blu_jeans_max = jeans_df['blumarine'].max()\n",
    "print(f'The maxiumum price for a Diesel tshirt is ${blu_jeans_max}.')\n",
    "\n",
    "blu_jeans_avg = jeans_df['blumarine'].mean()\n",
    "print(f'The average price for a Diesel tshirt is ${round(blu_jeans_avg,2)}.')"
   ]
  },
  {
   "cell_type": "code",
   "execution_count": 35,
   "id": "fa624021",
   "metadata": {},
   "outputs": [],
   "source": [
    "browser.quit()"
   ]
  },
  {
   "cell_type": "code",
   "execution_count": 36,
   "id": "929df548",
   "metadata": {},
   "outputs": [],
   "source": [
    "csv_filename = 'jeans.csv'\n",
    "jeans_df.to_csv(csv_filename, index=False)"
   ]
  },
  {
   "cell_type": "code",
   "execution_count": null,
   "id": "67ff71d8",
   "metadata": {},
   "outputs": [],
   "source": []
  }
 ],
 "metadata": {
  "kernelspec": {
   "display_name": "Python 3 (ipykernel)",
   "language": "python",
   "name": "python3"
  },
  "language_info": {
   "codemirror_mode": {
    "name": "ipython",
    "version": 3
   },
   "file_extension": ".py",
   "mimetype": "text/x-python",
   "name": "python",
   "nbconvert_exporter": "python",
   "pygments_lexer": "ipython3",
   "version": "3.8.8"
  }
 },
 "nbformat": 4,
 "nbformat_minor": 5
}
