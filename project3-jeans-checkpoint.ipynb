{
 "cells": [
  {
   "cell_type": "markdown",
   "metadata": {},
   "source": [
    "# Automated Web Scrape Practice"
   ]
  },
  {
   "cell_type": "code",
   "execution_count": 1,
   "metadata": {},
   "outputs": [],
   "source": [
    "from splinter import Browser\n",
    "from bs4 import BeautifulSoup as soup\n",
    "import pandas as pd"
   ]
  },
  {
   "cell_type": "code",
   "execution_count": 22,
   "metadata": {},
   "outputs": [],
   "source": [
    "# Set up Splinter\n",
    "browser = Browser('chrome')"
   ]
  },
  {
   "cell_type": "code",
   "execution_count": 8,
   "metadata": {},
   "outputs": [],
   "source": [
    "# Visit the Quotes to Scrape site\n",
    "url = 'https://www.ssense.com/en-us/women/designers/mm6-maison-margiela/jeans?sort=popularity-desc'\n",
    "browser.visit(url)"
   ]
  },
  {
   "cell_type": "code",
   "execution_count": 9,
   "metadata": {},
   "outputs": [],
   "source": [
    "# Parse the HTML\n",
    "html = browser.html\n",
    "html_soup = soup(html, 'html.parser')"
   ]
  },
  {
   "cell_type": "code",
   "execution_count": 11,
   "metadata": {},
   "outputs": [
    {
     "name": "stdout",
     "output_type": "stream",
     "text": [
      "['$475', '$390', '$223', '$390', '$326', '$337', '$252', '$204', '$222', '$83', '$181', '$230', '$390', '$124', '$545', '$292', '$363', '$155']\n"
     ]
    }
   ],
   "source": [
    "mm_prices = []\n",
    "for i in range(0, 18):\n",
    "    mm_price = html_soup.find('span', class_='s-text', attrs={'data-test': f'productCurrentPrice{i}'})\n",
    "    if mm_price:\n",
    "        mm_prices.append(mm_price.text.strip())\n",
    "    else:\n",
    "        print(f'Error: price {i} not found.')\n",
    "\n",
    "print(mm_prices)"
   ]
  },
  {
   "cell_type": "code",
   "execution_count": 12,
   "metadata": {},
   "outputs": [
    {
     "name": "stderr",
     "output_type": "stream",
     "text": [
      "C:\\Users\\jkoo0\\AppData\\Local\\Temp\\ipykernel_3816\\690135130.py:2: FutureWarning: The default value of regex will change from True to False in a future version. In addition, single character regular expressions will *not* be treated as literal strings when regex=True.\n",
      "  jeans_df['MM6'] = jeans_df['MM6'].str.replace('$','').astype(int)\n"
     ]
    },
    {
     "data": {
      "text/html": [
       "<div>\n",
       "<style scoped>\n",
       "    .dataframe tbody tr th:only-of-type {\n",
       "        vertical-align: middle;\n",
       "    }\n",
       "\n",
       "    .dataframe tbody tr th {\n",
       "        vertical-align: top;\n",
       "    }\n",
       "\n",
       "    .dataframe thead th {\n",
       "        text-align: right;\n",
       "    }\n",
       "</style>\n",
       "<table border=\"1\" class=\"dataframe\">\n",
       "  <thead>\n",
       "    <tr style=\"text-align: right;\">\n",
       "      <th></th>\n",
       "      <th>MM6</th>\n",
       "    </tr>\n",
       "  </thead>\n",
       "  <tbody>\n",
       "    <tr>\n",
       "      <th>0</th>\n",
       "      <td>475</td>\n",
       "    </tr>\n",
       "    <tr>\n",
       "      <th>1</th>\n",
       "      <td>390</td>\n",
       "    </tr>\n",
       "    <tr>\n",
       "      <th>2</th>\n",
       "      <td>223</td>\n",
       "    </tr>\n",
       "    <tr>\n",
       "      <th>3</th>\n",
       "      <td>390</td>\n",
       "    </tr>\n",
       "    <tr>\n",
       "      <th>4</th>\n",
       "      <td>326</td>\n",
       "    </tr>\n",
       "    <tr>\n",
       "      <th>5</th>\n",
       "      <td>337</td>\n",
       "    </tr>\n",
       "    <tr>\n",
       "      <th>6</th>\n",
       "      <td>252</td>\n",
       "    </tr>\n",
       "    <tr>\n",
       "      <th>7</th>\n",
       "      <td>204</td>\n",
       "    </tr>\n",
       "    <tr>\n",
       "      <th>8</th>\n",
       "      <td>222</td>\n",
       "    </tr>\n",
       "    <tr>\n",
       "      <th>9</th>\n",
       "      <td>83</td>\n",
       "    </tr>\n",
       "    <tr>\n",
       "      <th>10</th>\n",
       "      <td>181</td>\n",
       "    </tr>\n",
       "    <tr>\n",
       "      <th>11</th>\n",
       "      <td>230</td>\n",
       "    </tr>\n",
       "    <tr>\n",
       "      <th>12</th>\n",
       "      <td>390</td>\n",
       "    </tr>\n",
       "    <tr>\n",
       "      <th>13</th>\n",
       "      <td>124</td>\n",
       "    </tr>\n",
       "    <tr>\n",
       "      <th>14</th>\n",
       "      <td>545</td>\n",
       "    </tr>\n",
       "    <tr>\n",
       "      <th>15</th>\n",
       "      <td>292</td>\n",
       "    </tr>\n",
       "    <tr>\n",
       "      <th>16</th>\n",
       "      <td>363</td>\n",
       "    </tr>\n",
       "    <tr>\n",
       "      <th>17</th>\n",
       "      <td>155</td>\n",
       "    </tr>\n",
       "  </tbody>\n",
       "</table>\n",
       "</div>"
      ],
      "text/plain": [
       "    MM6\n",
       "0   475\n",
       "1   390\n",
       "2   223\n",
       "3   390\n",
       "4   326\n",
       "5   337\n",
       "6   252\n",
       "7   204\n",
       "8   222\n",
       "9    83\n",
       "10  181\n",
       "11  230\n",
       "12  390\n",
       "13  124\n",
       "14  545\n",
       "15  292\n",
       "16  363\n",
       "17  155"
      ]
     },
     "execution_count": 12,
     "metadata": {},
     "output_type": "execute_result"
    }
   ],
   "source": [
    "jeans_df = pd.DataFrame(mm_prices, columns=[\"MM6\"])\n",
    "jeans_df['MM6'] = jeans_df['MM6'].str.replace('$','').astype(int)\n",
    "jeans_df"
   ]
  },
  {
   "cell_type": "code",
   "execution_count": 29,
   "metadata": {
    "scrolled": true
   },
   "outputs": [
    {
     "name": "stdout",
     "output_type": "stream",
     "text": [
      "The minimum price for a pair of MM6 jeans is $83.\n",
      "The maxiumum price for a pair of MM6 jeans is $545.\n",
      "The average price for a pair of MM6 jeans is $287.89.\n"
     ]
    }
   ],
   "source": [
    "mm_jeans_min = jeans_df['MM6'].min()\n",
    "print(f'The minimum price for a pair of MM6 jeans is ${mm_jeans_min}.')\n",
    "\n",
    "mm_jeans_max = jeans_df['MM6'].max()\n",
    "print(f'The maxiumum price for a pair of MM6 jeans is ${mm_jeans_max}.')\n",
    "\n",
    "mm_jeans_avg = jeans_df['MM6'].mean()\n",
    "print(f'The average price for a pair of MM6 jeans is ${round(mm_jeans_avg,2)}.')"
   ]
  },
  {
   "cell_type": "code",
   "execution_count": 14,
   "metadata": {},
   "outputs": [],
   "source": [
    "browser.quit()\n",
    "browser = Browser('chrome')\n",
    "url_2 = 'https://www.ssense.com/en-us/women/designers/diesel/jeans?sort=popularity-desc'\n",
    "browser.visit(url_2)"
   ]
  },
  {
   "cell_type": "code",
   "execution_count": 15,
   "metadata": {},
   "outputs": [
    {
     "name": "stdout",
     "output_type": "stream",
     "text": [
      "['$328', '$355', '$335', '$375', '$452', '$250', '$134', '$157', '$110', '$101', '$101', '$188', '$392', '$110', '$405', '$288', '$132', '$713']\n"
     ]
    }
   ],
   "source": [
    "html = browser.html\n",
    "html_soup = soup(html, 'html.parser')\n",
    "\n",
    "diesel_prices = []\n",
    "for i in range(0, 18):\n",
    "    diesel_jeans_price = html_soup.find('span', class_='s-text', attrs={'data-test': f'productCurrentPrice{i}'})\n",
    "    if diesel_jeans_price:\n",
    "        diesel_prices.append(diesel_jeans_price.text.strip())\n",
    "    else:\n",
    "        print(f'Error: price {i} not found.')\n",
    "\n",
    "print(diesel_prices)"
   ]
  },
  {
   "cell_type": "code",
   "execution_count": 16,
   "metadata": {},
   "outputs": [
    {
     "name": "stderr",
     "output_type": "stream",
     "text": [
      "C:\\Users\\jkoo0\\AppData\\Local\\Temp\\ipykernel_3816\\355690728.py:2: FutureWarning: The default value of regex will change from True to False in a future version. In addition, single character regular expressions will *not* be treated as literal strings when regex=True.\n",
      "  jeans_df['diesel'] = jeans_df['diesel'].str.replace('$','').astype(int).fillna(0)\n"
     ]
    },
    {
     "data": {
      "text/html": [
       "<div>\n",
       "<style scoped>\n",
       "    .dataframe tbody tr th:only-of-type {\n",
       "        vertical-align: middle;\n",
       "    }\n",
       "\n",
       "    .dataframe tbody tr th {\n",
       "        vertical-align: top;\n",
       "    }\n",
       "\n",
       "    .dataframe thead th {\n",
       "        text-align: right;\n",
       "    }\n",
       "</style>\n",
       "<table border=\"1\" class=\"dataframe\">\n",
       "  <thead>\n",
       "    <tr style=\"text-align: right;\">\n",
       "      <th></th>\n",
       "      <th>MM6</th>\n",
       "      <th>diesel</th>\n",
       "    </tr>\n",
       "  </thead>\n",
       "  <tbody>\n",
       "    <tr>\n",
       "      <th>0</th>\n",
       "      <td>475</td>\n",
       "      <td>328</td>\n",
       "    </tr>\n",
       "    <tr>\n",
       "      <th>1</th>\n",
       "      <td>390</td>\n",
       "      <td>355</td>\n",
       "    </tr>\n",
       "    <tr>\n",
       "      <th>2</th>\n",
       "      <td>223</td>\n",
       "      <td>335</td>\n",
       "    </tr>\n",
       "    <tr>\n",
       "      <th>3</th>\n",
       "      <td>390</td>\n",
       "      <td>375</td>\n",
       "    </tr>\n",
       "    <tr>\n",
       "      <th>4</th>\n",
       "      <td>326</td>\n",
       "      <td>452</td>\n",
       "    </tr>\n",
       "    <tr>\n",
       "      <th>5</th>\n",
       "      <td>337</td>\n",
       "      <td>250</td>\n",
       "    </tr>\n",
       "    <tr>\n",
       "      <th>6</th>\n",
       "      <td>252</td>\n",
       "      <td>134</td>\n",
       "    </tr>\n",
       "    <tr>\n",
       "      <th>7</th>\n",
       "      <td>204</td>\n",
       "      <td>157</td>\n",
       "    </tr>\n",
       "    <tr>\n",
       "      <th>8</th>\n",
       "      <td>222</td>\n",
       "      <td>110</td>\n",
       "    </tr>\n",
       "    <tr>\n",
       "      <th>9</th>\n",
       "      <td>83</td>\n",
       "      <td>101</td>\n",
       "    </tr>\n",
       "    <tr>\n",
       "      <th>10</th>\n",
       "      <td>181</td>\n",
       "      <td>101</td>\n",
       "    </tr>\n",
       "    <tr>\n",
       "      <th>11</th>\n",
       "      <td>230</td>\n",
       "      <td>188</td>\n",
       "    </tr>\n",
       "    <tr>\n",
       "      <th>12</th>\n",
       "      <td>390</td>\n",
       "      <td>392</td>\n",
       "    </tr>\n",
       "    <tr>\n",
       "      <th>13</th>\n",
       "      <td>124</td>\n",
       "      <td>110</td>\n",
       "    </tr>\n",
       "    <tr>\n",
       "      <th>14</th>\n",
       "      <td>545</td>\n",
       "      <td>405</td>\n",
       "    </tr>\n",
       "    <tr>\n",
       "      <th>15</th>\n",
       "      <td>292</td>\n",
       "      <td>288</td>\n",
       "    </tr>\n",
       "    <tr>\n",
       "      <th>16</th>\n",
       "      <td>363</td>\n",
       "      <td>132</td>\n",
       "    </tr>\n",
       "    <tr>\n",
       "      <th>17</th>\n",
       "      <td>155</td>\n",
       "      <td>713</td>\n",
       "    </tr>\n",
       "  </tbody>\n",
       "</table>\n",
       "</div>"
      ],
      "text/plain": [
       "    MM6  diesel\n",
       "0   475     328\n",
       "1   390     355\n",
       "2   223     335\n",
       "3   390     375\n",
       "4   326     452\n",
       "5   337     250\n",
       "6   252     134\n",
       "7   204     157\n",
       "8   222     110\n",
       "9    83     101\n",
       "10  181     101\n",
       "11  230     188\n",
       "12  390     392\n",
       "13  124     110\n",
       "14  545     405\n",
       "15  292     288\n",
       "16  363     132\n",
       "17  155     713"
      ]
     },
     "execution_count": 16,
     "metadata": {},
     "output_type": "execute_result"
    }
   ],
   "source": [
    "jeans_df['diesel'] = diesel_prices\n",
    "jeans_df['diesel'] = jeans_df['diesel'].str.replace('$','').astype(int).fillna(0)\n",
    "jeans_df"
   ]
  },
  {
   "cell_type": "code",
   "execution_count": 28,
   "metadata": {},
   "outputs": [
    {
     "name": "stdout",
     "output_type": "stream",
     "text": [
      "The minimum price for a pair of Diesel jeans is $101.\n",
      "The maxiumum price for a pair of Diesel jeans is $713.\n",
      "The average price for a pair of Diesel jeans is $273.67.\n"
     ]
    }
   ],
   "source": [
    "diesel_jeans_min = jeans_df['diesel'].min()\n",
    "print(f'The minimum price for a pair of Diesel jeans is ${diesel_jeans_min}.')\n",
    "\n",
    "diesel_jeans_max = jeans_df['diesel'].max()\n",
    "print(f'The maxiumum price for a pair of Diesel jeans is ${diesel_jeans_max}.')\n",
    "\n",
    "diesel_jeans_avg = jeans_df['diesel'].mean()\n",
    "print(f'The average price for a pair of Diesel jeans is ${round(diesel_jeans_avg,2)}.')"
   ]
  },
  {
   "cell_type": "code",
   "execution_count": 23,
   "metadata": {},
   "outputs": [],
   "source": [
    "browser.quit()\n",
    "browser = Browser('chrome')\n",
    "url_3 = 'https://www.ssense.com/en-us/women/designers/blumarine/jeans?sort=popularity-desc'\n",
    "browser.visit(url_3)"
   ]
  },
  {
   "cell_type": "code",
   "execution_count": 24,
   "metadata": {},
   "outputs": [
    {
     "name": "stdout",
     "output_type": "stream",
     "text": [
      "['$848', '$148', '$584', '$161', '$820', '$374', '$330', '$765', '$1040', '$501', '$760', '$485', '$239', '$440', '$241', '$258', '$191', '$1295']\n"
     ]
    }
   ],
   "source": [
    "html = browser.html\n",
    "html_soup = soup(html, 'html.parser')\n",
    "\n",
    "blu_prices = []\n",
    "for i in range(0, 18):\n",
    "    blu_price = html_soup.find('span', class_='s-text', attrs={'data-test': f'productCurrentPrice{i}'})\n",
    "    if blu_price:\n",
    "        blu_prices.append(blu_price.text.strip())\n",
    "    else:\n",
    "        print(f'Error: price {i} not found.')\n",
    "\n",
    "print(blu_prices)"
   ]
  },
  {
   "cell_type": "code",
   "execution_count": 25,
   "metadata": {},
   "outputs": [
    {
     "name": "stderr",
     "output_type": "stream",
     "text": [
      "C:\\Users\\jkoo0\\AppData\\Local\\Temp\\ipykernel_3816\\2186024339.py:2: FutureWarning: The default value of regex will change from True to False in a future version. In addition, single character regular expressions will *not* be treated as literal strings when regex=True.\n",
      "  jeans_df['blumarine'] = jeans_df['blumarine'].str.replace('$','').astype(int).fillna(0)\n"
     ]
    },
    {
     "data": {
      "text/html": [
       "<div>\n",
       "<style scoped>\n",
       "    .dataframe tbody tr th:only-of-type {\n",
       "        vertical-align: middle;\n",
       "    }\n",
       "\n",
       "    .dataframe tbody tr th {\n",
       "        vertical-align: top;\n",
       "    }\n",
       "\n",
       "    .dataframe thead th {\n",
       "        text-align: right;\n",
       "    }\n",
       "</style>\n",
       "<table border=\"1\" class=\"dataframe\">\n",
       "  <thead>\n",
       "    <tr style=\"text-align: right;\">\n",
       "      <th></th>\n",
       "      <th>MM6</th>\n",
       "      <th>diesel</th>\n",
       "      <th>blumarine</th>\n",
       "    </tr>\n",
       "  </thead>\n",
       "  <tbody>\n",
       "    <tr>\n",
       "      <th>0</th>\n",
       "      <td>475</td>\n",
       "      <td>328</td>\n",
       "      <td>848</td>\n",
       "    </tr>\n",
       "    <tr>\n",
       "      <th>1</th>\n",
       "      <td>390</td>\n",
       "      <td>355</td>\n",
       "      <td>148</td>\n",
       "    </tr>\n",
       "    <tr>\n",
       "      <th>2</th>\n",
       "      <td>223</td>\n",
       "      <td>335</td>\n",
       "      <td>584</td>\n",
       "    </tr>\n",
       "    <tr>\n",
       "      <th>3</th>\n",
       "      <td>390</td>\n",
       "      <td>375</td>\n",
       "      <td>161</td>\n",
       "    </tr>\n",
       "    <tr>\n",
       "      <th>4</th>\n",
       "      <td>326</td>\n",
       "      <td>452</td>\n",
       "      <td>820</td>\n",
       "    </tr>\n",
       "    <tr>\n",
       "      <th>5</th>\n",
       "      <td>337</td>\n",
       "      <td>250</td>\n",
       "      <td>374</td>\n",
       "    </tr>\n",
       "    <tr>\n",
       "      <th>6</th>\n",
       "      <td>252</td>\n",
       "      <td>134</td>\n",
       "      <td>330</td>\n",
       "    </tr>\n",
       "    <tr>\n",
       "      <th>7</th>\n",
       "      <td>204</td>\n",
       "      <td>157</td>\n",
       "      <td>765</td>\n",
       "    </tr>\n",
       "    <tr>\n",
       "      <th>8</th>\n",
       "      <td>222</td>\n",
       "      <td>110</td>\n",
       "      <td>1040</td>\n",
       "    </tr>\n",
       "    <tr>\n",
       "      <th>9</th>\n",
       "      <td>83</td>\n",
       "      <td>101</td>\n",
       "      <td>501</td>\n",
       "    </tr>\n",
       "    <tr>\n",
       "      <th>10</th>\n",
       "      <td>181</td>\n",
       "      <td>101</td>\n",
       "      <td>760</td>\n",
       "    </tr>\n",
       "    <tr>\n",
       "      <th>11</th>\n",
       "      <td>230</td>\n",
       "      <td>188</td>\n",
       "      <td>485</td>\n",
       "    </tr>\n",
       "    <tr>\n",
       "      <th>12</th>\n",
       "      <td>390</td>\n",
       "      <td>392</td>\n",
       "      <td>239</td>\n",
       "    </tr>\n",
       "    <tr>\n",
       "      <th>13</th>\n",
       "      <td>124</td>\n",
       "      <td>110</td>\n",
       "      <td>440</td>\n",
       "    </tr>\n",
       "    <tr>\n",
       "      <th>14</th>\n",
       "      <td>545</td>\n",
       "      <td>405</td>\n",
       "      <td>241</td>\n",
       "    </tr>\n",
       "    <tr>\n",
       "      <th>15</th>\n",
       "      <td>292</td>\n",
       "      <td>288</td>\n",
       "      <td>258</td>\n",
       "    </tr>\n",
       "    <tr>\n",
       "      <th>16</th>\n",
       "      <td>363</td>\n",
       "      <td>132</td>\n",
       "      <td>191</td>\n",
       "    </tr>\n",
       "    <tr>\n",
       "      <th>17</th>\n",
       "      <td>155</td>\n",
       "      <td>713</td>\n",
       "      <td>1295</td>\n",
       "    </tr>\n",
       "  </tbody>\n",
       "</table>\n",
       "</div>"
      ],
      "text/plain": [
       "    MM6  diesel  blumarine\n",
       "0   475     328        848\n",
       "1   390     355        148\n",
       "2   223     335        584\n",
       "3   390     375        161\n",
       "4   326     452        820\n",
       "5   337     250        374\n",
       "6   252     134        330\n",
       "7   204     157        765\n",
       "8   222     110       1040\n",
       "9    83     101        501\n",
       "10  181     101        760\n",
       "11  230     188        485\n",
       "12  390     392        239\n",
       "13  124     110        440\n",
       "14  545     405        241\n",
       "15  292     288        258\n",
       "16  363     132        191\n",
       "17  155     713       1295"
      ]
     },
     "execution_count": 25,
     "metadata": {},
     "output_type": "execute_result"
    }
   ],
   "source": [
    "jeans_df['blumarine'] = blu_prices\n",
    "jeans_df['blumarine'] = jeans_df['blumarine'].str.replace('$','').astype(int).fillna(0)\n",
    "jeans_df"
   ]
  },
  {
   "cell_type": "code",
   "execution_count": 27,
   "metadata": {},
   "outputs": [
    {
     "name": "stdout",
     "output_type": "stream",
     "text": [
      "The minimum price for a pair of blumarine jeans is $148.\n",
      "The maxiumum price for a pair of blumarine jeans is $1295.\n",
      "The average price for a pair of blumarine jeans is $526.67.\n"
     ]
    }
   ],
   "source": [
    "blu_jeans_min = jeans_df['blumarine'].min()\n",
    "print(f'The minimum price for a pair of blumarine jeans is ${blu_jeans_min}.')\n",
    "\n",
    "blu_jeans_max = jeans_df['blumarine'].max()\n",
    "print(f'The maxiumum price for a pair of blumarine jeans is ${blu_jeans_max}.')\n",
    "\n",
    "blu_jeans_avg = jeans_df['blumarine'].mean()\n",
    "print(f'The average price for a pair of blumarine jeans is ${round(blu_jeans_avg,2)}.')"
   ]
  },
  {
   "cell_type": "code",
   "execution_count": 19,
   "metadata": {},
   "outputs": [],
   "source": [
    "# End the automated browsing section\n",
    "browser.quit()"
   ]
  },
  {
   "cell_type": "code",
   "execution_count": null,
   "metadata": {},
   "outputs": [],
   "source": []
  }
 ],
 "metadata": {
  "kernelspec": {
   "display_name": "Python 3 (ipykernel)",
   "language": "python",
   "name": "python3"
  },
  "language_info": {
   "codemirror_mode": {
    "name": "ipython",
    "version": 3
   },
   "file_extension": ".py",
   "mimetype": "text/x-python",
   "name": "python",
   "nbconvert_exporter": "python",
   "pygments_lexer": "ipython3",
   "version": "3.10.9"
  },
  "vscode": {
   "interpreter": {
    "hash": "31f2aee4e71d21fbe5cf8b01ff0e069b9275f58929596ceb00d14d90e3e16cd6"
   }
  }
 },
 "nbformat": 4,
 "nbformat_minor": 4
}
