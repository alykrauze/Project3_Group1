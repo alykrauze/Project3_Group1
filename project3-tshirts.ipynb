{
 "cells": [
  {
   "cell_type": "markdown",
   "metadata": {},
   "source": [
    "# Automated Web Scrape Practice"
   ]
  },
  {
   "cell_type": "code",
   "execution_count": 11,
   "metadata": {},
   "outputs": [],
   "source": [
    "from splinter import Browser\n",
    "from bs4 import BeautifulSoup as soup\n",
    "import pandas as pd"
   ]
  },
  {
   "cell_type": "code",
   "execution_count": 12,
   "metadata": {},
   "outputs": [],
   "source": [
    "# Set up Splinter\n",
    "browser = Browser('chrome')"
   ]
  },
  {
   "cell_type": "code",
   "execution_count": 13,
   "metadata": {},
   "outputs": [],
   "source": [
    "# Visit the Quotes to Scrape site\n",
    "url = 'https://www.ssense.com/en-us/women/designers/mm6-maison-margiela/t-shirts'\n",
    "browser.visit(url)"
   ]
  },
  {
   "cell_type": "code",
   "execution_count": 14,
   "metadata": {},
   "outputs": [
    {
     "name": "stdout",
     "output_type": "stream",
     "text": [
      "['$545', '$390', '$390', '$390', '$190', '$185', '$325', '$355', '$325', '$210', '$210', '$185', '$309', '$257', '$195', '$146', '$143']\n"
     ]
    }
   ],
   "source": [
    "# Parse the HTML\n",
    "html = browser.html\n",
    "html_soup = soup(html, 'html.parser')\n",
    "mm_tshirt_prices = []\n",
    "for i in range(0, 17):\n",
    "    mm_tshirt_price = html_soup.find('span', class_='s-text', attrs={'data-test': f'productCurrentPrice{i}'})\n",
    "    if mm_tshirt_price:\n",
    "        mm_tshirt_prices.append(mm_tshirt_price.text.strip())\n",
    "    else:\n",
    "        print(f'Error: price {i} not found.')\n",
    "\n",
    "print(mm_tshirt_prices)"
   ]
  },
  {
   "cell_type": "code",
   "execution_count": 15,
   "metadata": {},
   "outputs": [
    {
     "name": "stderr",
     "output_type": "stream",
     "text": [
      "/var/folders/c9/9w8x95jd1f5fjjhn66vbs76c0000gn/T/ipykernel_1393/2175060261.py:2: FutureWarning: The default value of regex will change from True to False in a future version. In addition, single character regular expressions will *not* be treated as literal strings when regex=True.\n",
      "  tshirt_df['MM6'] = tshirt_df['MM6'].str.replace('$','').astype(int)\n"
     ]
    },
    {
     "data": {
      "text/html": [
       "<div>\n",
       "<style scoped>\n",
       "    .dataframe tbody tr th:only-of-type {\n",
       "        vertical-align: middle;\n",
       "    }\n",
       "\n",
       "    .dataframe tbody tr th {\n",
       "        vertical-align: top;\n",
       "    }\n",
       "\n",
       "    .dataframe thead th {\n",
       "        text-align: right;\n",
       "    }\n",
       "</style>\n",
       "<table border=\"1\" class=\"dataframe\">\n",
       "  <thead>\n",
       "    <tr style=\"text-align: right;\">\n",
       "      <th></th>\n",
       "      <th>MM6</th>\n",
       "    </tr>\n",
       "  </thead>\n",
       "  <tbody>\n",
       "    <tr>\n",
       "      <th>0</th>\n",
       "      <td>545</td>\n",
       "    </tr>\n",
       "    <tr>\n",
       "      <th>1</th>\n",
       "      <td>390</td>\n",
       "    </tr>\n",
       "    <tr>\n",
       "      <th>2</th>\n",
       "      <td>390</td>\n",
       "    </tr>\n",
       "    <tr>\n",
       "      <th>3</th>\n",
       "      <td>390</td>\n",
       "    </tr>\n",
       "    <tr>\n",
       "      <th>4</th>\n",
       "      <td>190</td>\n",
       "    </tr>\n",
       "    <tr>\n",
       "      <th>5</th>\n",
       "      <td>185</td>\n",
       "    </tr>\n",
       "    <tr>\n",
       "      <th>6</th>\n",
       "      <td>325</td>\n",
       "    </tr>\n",
       "    <tr>\n",
       "      <th>7</th>\n",
       "      <td>355</td>\n",
       "    </tr>\n",
       "    <tr>\n",
       "      <th>8</th>\n",
       "      <td>325</td>\n",
       "    </tr>\n",
       "    <tr>\n",
       "      <th>9</th>\n",
       "      <td>210</td>\n",
       "    </tr>\n",
       "    <tr>\n",
       "      <th>10</th>\n",
       "      <td>210</td>\n",
       "    </tr>\n",
       "    <tr>\n",
       "      <th>11</th>\n",
       "      <td>185</td>\n",
       "    </tr>\n",
       "    <tr>\n",
       "      <th>12</th>\n",
       "      <td>309</td>\n",
       "    </tr>\n",
       "    <tr>\n",
       "      <th>13</th>\n",
       "      <td>257</td>\n",
       "    </tr>\n",
       "    <tr>\n",
       "      <th>14</th>\n",
       "      <td>195</td>\n",
       "    </tr>\n",
       "    <tr>\n",
       "      <th>15</th>\n",
       "      <td>146</td>\n",
       "    </tr>\n",
       "    <tr>\n",
       "      <th>16</th>\n",
       "      <td>143</td>\n",
       "    </tr>\n",
       "  </tbody>\n",
       "</table>\n",
       "</div>"
      ],
      "text/plain": [
       "    MM6\n",
       "0   545\n",
       "1   390\n",
       "2   390\n",
       "3   390\n",
       "4   190\n",
       "5   185\n",
       "6   325\n",
       "7   355\n",
       "8   325\n",
       "9   210\n",
       "10  210\n",
       "11  185\n",
       "12  309\n",
       "13  257\n",
       "14  195\n",
       "15  146\n",
       "16  143"
      ]
     },
     "execution_count": 15,
     "metadata": {},
     "output_type": "execute_result"
    }
   ],
   "source": [
    "tshirt_df = pd.DataFrame(mm_tshirt_prices, columns=[\"MM6\"])\n",
    "tshirt_df['MM6'] = tshirt_df['MM6'].str.replace('$','').astype(int)\n",
    "tshirt_df"
   ]
  },
  {
   "cell_type": "code",
   "execution_count": 16,
   "metadata": {},
   "outputs": [],
   "source": [
    "csv_filename = 'mm6_tshirts.csv'\n",
    "tshirt_df.to_csv(csv_filename, index=False)"
   ]
  },
  {
   "cell_type": "code",
   "execution_count": 17,
   "metadata": {
    "scrolled": true
   },
   "outputs": [
    {
     "name": "stdout",
     "output_type": "stream",
     "text": [
      "The minimum price for a MM6 tshirt is $143.\n",
      "The maxiumum price for a MM6 tshirt is $545.\n",
      "The average price for a MM6 tshirt is $279.41.\n"
     ]
    }
   ],
   "source": [
    "mm_tshirt_min = tshirt_df['MM6'].min()\n",
    "print(f'The minimum price for a MM6 tshirt is ${mm_tshirt_min}.')\n",
    "\n",
    "mm_tshirt_max = tshirt_df['MM6'].max()\n",
    "print(f'The maxiumum price for a MM6 tshirt is ${mm_tshirt_max}.')\n",
    "\n",
    "mm_tshirt_avg = tshirt_df['MM6'].mean()\n",
    "print(f'The average price for a MM6 tshirt is ${round(mm_tshirt_avg,2)}.')"
   ]
  },
  {
   "cell_type": "code",
   "execution_count": 18,
   "metadata": {},
   "outputs": [],
   "source": [
    "browser.quit()\n",
    "#browser = Browser('chrome')\n",
    "#url_2 = 'https://www.ssense.com/en-us/women/designers/diesel/t-shirts'\n",
    "#browser.visit(url_2)"
   ]
  },
  {
   "cell_type": "code",
   "execution_count": 19,
   "metadata": {},
   "outputs": [],
   "source": [
    "browser = Browser('chrome')\n",
    "url_2 = 'https://www.ssense.com/en-us/women/designers/diesel/t-shirts'\n",
    "browser.visit(url_2)"
   ]
  },
  {
   "cell_type": "code",
   "execution_count": 20,
   "metadata": {},
   "outputs": [
    {
     "name": "stdout",
     "output_type": "stream",
     "text": [
      "['$125', '$125', '$105', '$125', '$125', '$175', '$150', '$158', '$100', '$83', '$97', '$87', '$58', '$211', '$134', '$78', '$84']\n"
     ]
    }
   ],
   "source": [
    "html = browser.html\n",
    "html_soup = soup(html, 'html.parser')\n",
    "\n",
    "diesel_tshirt_prices = []\n",
    "for i in range(0, 17):\n",
    "    diesel_tshirt_price = html_soup.find('span', class_='s-text', attrs={'data-test': f'productCurrentPrice{i}'})\n",
    "    if diesel_tshirt_price:\n",
    "        diesel_tshirt_prices.append(diesel_tshirt_price.text.strip())\n",
    "    else:\n",
    "        print(f'Error: price {i} not found.')\n",
    "\n",
    "print(diesel_tshirt_prices)"
   ]
  },
  {
   "cell_type": "code",
   "execution_count": 23,
   "metadata": {},
   "outputs": [
    {
     "name": "stderr",
     "output_type": "stream",
     "text": [
      "/var/folders/c9/9w8x95jd1f5fjjhn66vbs76c0000gn/T/ipykernel_1393/3377191505.py:2: FutureWarning: The default value of regex will change from True to False in a future version. In addition, single character regular expressions will *not* be treated as literal strings when regex=True.\n",
      "  diesel_tshirt_df['Diesel'] = diesel_tshirt_df['Diesel'].str.replace('$','').astype(int)\n"
     ]
    }
   ],
   "source": [
    "diesel_tshirt_df = pd.DataFrame(diesel_tshirt_prices, columns=[\"Diesel\"])\n",
    "diesel_tshirt_df['Diesel'] = diesel_tshirt_df['Diesel'].str.replace('$','').astype(int)\n",
    "csv_filename = 'diesel_tshirt.csv'\n",
    "diesel_tshirt_df.to_csv(csv_filename, index=False)"
   ]
  },
  {
   "cell_type": "code",
   "execution_count": 24,
   "metadata": {},
   "outputs": [
    {
     "name": "stderr",
     "output_type": "stream",
     "text": [
      "/var/folders/c9/9w8x95jd1f5fjjhn66vbs76c0000gn/T/ipykernel_1393/3847222022.py:2: FutureWarning: The default value of regex will change from True to False in a future version. In addition, single character regular expressions will *not* be treated as literal strings when regex=True.\n",
      "  tshirt_df['diesel'] = tshirt_df['diesel'].str.replace('$','').astype(int).fillna(0)\n"
     ]
    },
    {
     "data": {
      "text/html": [
       "<div>\n",
       "<style scoped>\n",
       "    .dataframe tbody tr th:only-of-type {\n",
       "        vertical-align: middle;\n",
       "    }\n",
       "\n",
       "    .dataframe tbody tr th {\n",
       "        vertical-align: top;\n",
       "    }\n",
       "\n",
       "    .dataframe thead th {\n",
       "        text-align: right;\n",
       "    }\n",
       "</style>\n",
       "<table border=\"1\" class=\"dataframe\">\n",
       "  <thead>\n",
       "    <tr style=\"text-align: right;\">\n",
       "      <th></th>\n",
       "      <th>MM6</th>\n",
       "      <th>diesel</th>\n",
       "    </tr>\n",
       "  </thead>\n",
       "  <tbody>\n",
       "    <tr>\n",
       "      <th>0</th>\n",
       "      <td>545</td>\n",
       "      <td>125</td>\n",
       "    </tr>\n",
       "    <tr>\n",
       "      <th>1</th>\n",
       "      <td>390</td>\n",
       "      <td>125</td>\n",
       "    </tr>\n",
       "    <tr>\n",
       "      <th>2</th>\n",
       "      <td>390</td>\n",
       "      <td>105</td>\n",
       "    </tr>\n",
       "    <tr>\n",
       "      <th>3</th>\n",
       "      <td>390</td>\n",
       "      <td>125</td>\n",
       "    </tr>\n",
       "    <tr>\n",
       "      <th>4</th>\n",
       "      <td>190</td>\n",
       "      <td>125</td>\n",
       "    </tr>\n",
       "    <tr>\n",
       "      <th>5</th>\n",
       "      <td>185</td>\n",
       "      <td>175</td>\n",
       "    </tr>\n",
       "    <tr>\n",
       "      <th>6</th>\n",
       "      <td>325</td>\n",
       "      <td>150</td>\n",
       "    </tr>\n",
       "    <tr>\n",
       "      <th>7</th>\n",
       "      <td>355</td>\n",
       "      <td>158</td>\n",
       "    </tr>\n",
       "    <tr>\n",
       "      <th>8</th>\n",
       "      <td>325</td>\n",
       "      <td>100</td>\n",
       "    </tr>\n",
       "    <tr>\n",
       "      <th>9</th>\n",
       "      <td>210</td>\n",
       "      <td>83</td>\n",
       "    </tr>\n",
       "    <tr>\n",
       "      <th>10</th>\n",
       "      <td>210</td>\n",
       "      <td>97</td>\n",
       "    </tr>\n",
       "    <tr>\n",
       "      <th>11</th>\n",
       "      <td>185</td>\n",
       "      <td>87</td>\n",
       "    </tr>\n",
       "    <tr>\n",
       "      <th>12</th>\n",
       "      <td>309</td>\n",
       "      <td>58</td>\n",
       "    </tr>\n",
       "    <tr>\n",
       "      <th>13</th>\n",
       "      <td>257</td>\n",
       "      <td>211</td>\n",
       "    </tr>\n",
       "    <tr>\n",
       "      <th>14</th>\n",
       "      <td>195</td>\n",
       "      <td>134</td>\n",
       "    </tr>\n",
       "    <tr>\n",
       "      <th>15</th>\n",
       "      <td>146</td>\n",
       "      <td>78</td>\n",
       "    </tr>\n",
       "    <tr>\n",
       "      <th>16</th>\n",
       "      <td>143</td>\n",
       "      <td>84</td>\n",
       "    </tr>\n",
       "  </tbody>\n",
       "</table>\n",
       "</div>"
      ],
      "text/plain": [
       "    MM6  diesel\n",
       "0   545     125\n",
       "1   390     125\n",
       "2   390     105\n",
       "3   390     125\n",
       "4   190     125\n",
       "5   185     175\n",
       "6   325     150\n",
       "7   355     158\n",
       "8   325     100\n",
       "9   210      83\n",
       "10  210      97\n",
       "11  185      87\n",
       "12  309      58\n",
       "13  257     211\n",
       "14  195     134\n",
       "15  146      78\n",
       "16  143      84"
      ]
     },
     "execution_count": 24,
     "metadata": {},
     "output_type": "execute_result"
    }
   ],
   "source": [
    "tshirt_df['diesel'] = diesel_tshirt_prices\n",
    "tshirt_df['diesel'] = tshirt_df['diesel'].str.replace('$','').astype(int).fillna(0)\n",
    "tshirt_df"
   ]
  },
  {
   "cell_type": "code",
   "execution_count": 25,
   "metadata": {},
   "outputs": [
    {
     "name": "stdout",
     "output_type": "stream",
     "text": [
      "The minimum price for a Diesel tshirt is $58.\n",
      "The maxiumum price for a Diesel tshirt is $211.\n",
      "The average price for a Diesel tshirt is $118.82.\n"
     ]
    }
   ],
   "source": [
    "diesel_tshirt_min = tshirt_df['diesel'].min()\n",
    "print(f'The minimum price for a Diesel tshirt is ${diesel_tshirt_min}.')\n",
    "\n",
    "diesel_tshirt_max = tshirt_df['diesel'].max()\n",
    "print(f'The maxiumum price for a Diesel tshirt is ${diesel_tshirt_max}.')\n",
    "\n",
    "diesel_tshirt_avg = tshirt_df['diesel'].mean()\n",
    "print(f'The average price for a Diesel tshirt is ${round(diesel_tshirt_avg,2)}.')"
   ]
  },
  {
   "cell_type": "code",
   "execution_count": 26,
   "metadata": {},
   "outputs": [],
   "source": [
    "browser.quit()"
   ]
  },
  {
   "cell_type": "code",
   "execution_count": 27,
   "metadata": {},
   "outputs": [],
   "source": [
    "browser = Browser('chrome')\n",
    "url_3 = 'https://www.ssense.com/en-us/women/designers/blumarine/t-shirts'\n",
    "browser.visit(url_3)"
   ]
  },
  {
   "cell_type": "code",
   "execution_count": 28,
   "metadata": {},
   "outputs": [
    {
     "name": "stdout",
     "output_type": "stream",
     "text": [
      "['$550', '$160', '$924', '$117', '$168', '$114', '$119', '$122', '$119', '$114', '$114', '$126', '$163', '$93', '$221', '$83', '$91']\n"
     ]
    }
   ],
   "source": [
    "html = browser.html\n",
    "html_soup = soup(html, 'html.parser')\n",
    "\n",
    "blu_tshirt_prices = []\n",
    "for i in range(0, 17):\n",
    "    blu_tshirt_price = html_soup.find('span', class_='s-text', attrs={'data-test': f'productCurrentPrice{i}'})\n",
    "    if blu_tshirt_price:\n",
    "        blu_tshirt_prices.append(blu_tshirt_price.text.strip())\n",
    "    else:\n",
    "        print(f'Error: price {i} not found.')\n",
    "\n",
    "print(blu_tshirt_prices)"
   ]
  },
  {
   "cell_type": "code",
   "execution_count": 30,
   "metadata": {},
   "outputs": [
    {
     "name": "stderr",
     "output_type": "stream",
     "text": [
      "/var/folders/c9/9w8x95jd1f5fjjhn66vbs76c0000gn/T/ipykernel_1393/618459293.py:2: FutureWarning: The default value of regex will change from True to False in a future version. In addition, single character regular expressions will *not* be treated as literal strings when regex=True.\n",
      "  blu_tshirt_df['Blumarine'] = blu_tshirt_df['Blumarine'].str.replace('$','').astype(int)\n"
     ]
    }
   ],
   "source": [
    "blu_tshirt_df = pd.DataFrame(blu_tshirt_prices, columns=[\"Blumarine\"])\n",
    "blu_tshirt_df['Blumarine'] = blu_tshirt_df['Blumarine'].str.replace('$','').astype(int)\n",
    "csv_filename = 'blumarine_tshirt.csv'\n",
    "blu_tshirt_df.to_csv(csv_filename, index=False)"
   ]
  },
  {
   "cell_type": "code",
   "execution_count": 31,
   "metadata": {},
   "outputs": [
    {
     "name": "stderr",
     "output_type": "stream",
     "text": [
      "/var/folders/c9/9w8x95jd1f5fjjhn66vbs76c0000gn/T/ipykernel_1393/3357997537.py:2: FutureWarning: The default value of regex will change from True to False in a future version. In addition, single character regular expressions will *not* be treated as literal strings when regex=True.\n",
      "  tshirt_df['blumarine'] = tshirt_df['blumarine'].str.replace('$','').astype(int)\n"
     ]
    },
    {
     "data": {
      "text/html": [
       "<div>\n",
       "<style scoped>\n",
       "    .dataframe tbody tr th:only-of-type {\n",
       "        vertical-align: middle;\n",
       "    }\n",
       "\n",
       "    .dataframe tbody tr th {\n",
       "        vertical-align: top;\n",
       "    }\n",
       "\n",
       "    .dataframe thead th {\n",
       "        text-align: right;\n",
       "    }\n",
       "</style>\n",
       "<table border=\"1\" class=\"dataframe\">\n",
       "  <thead>\n",
       "    <tr style=\"text-align: right;\">\n",
       "      <th></th>\n",
       "      <th>MM6</th>\n",
       "      <th>diesel</th>\n",
       "      <th>blumarine</th>\n",
       "    </tr>\n",
       "  </thead>\n",
       "  <tbody>\n",
       "    <tr>\n",
       "      <th>0</th>\n",
       "      <td>545</td>\n",
       "      <td>125</td>\n",
       "      <td>550</td>\n",
       "    </tr>\n",
       "    <tr>\n",
       "      <th>1</th>\n",
       "      <td>390</td>\n",
       "      <td>125</td>\n",
       "      <td>160</td>\n",
       "    </tr>\n",
       "    <tr>\n",
       "      <th>2</th>\n",
       "      <td>390</td>\n",
       "      <td>105</td>\n",
       "      <td>924</td>\n",
       "    </tr>\n",
       "    <tr>\n",
       "      <th>3</th>\n",
       "      <td>390</td>\n",
       "      <td>125</td>\n",
       "      <td>117</td>\n",
       "    </tr>\n",
       "    <tr>\n",
       "      <th>4</th>\n",
       "      <td>190</td>\n",
       "      <td>125</td>\n",
       "      <td>168</td>\n",
       "    </tr>\n",
       "    <tr>\n",
       "      <th>5</th>\n",
       "      <td>185</td>\n",
       "      <td>175</td>\n",
       "      <td>114</td>\n",
       "    </tr>\n",
       "    <tr>\n",
       "      <th>6</th>\n",
       "      <td>325</td>\n",
       "      <td>150</td>\n",
       "      <td>119</td>\n",
       "    </tr>\n",
       "    <tr>\n",
       "      <th>7</th>\n",
       "      <td>355</td>\n",
       "      <td>158</td>\n",
       "      <td>122</td>\n",
       "    </tr>\n",
       "    <tr>\n",
       "      <th>8</th>\n",
       "      <td>325</td>\n",
       "      <td>100</td>\n",
       "      <td>119</td>\n",
       "    </tr>\n",
       "    <tr>\n",
       "      <th>9</th>\n",
       "      <td>210</td>\n",
       "      <td>83</td>\n",
       "      <td>114</td>\n",
       "    </tr>\n",
       "    <tr>\n",
       "      <th>10</th>\n",
       "      <td>210</td>\n",
       "      <td>97</td>\n",
       "      <td>114</td>\n",
       "    </tr>\n",
       "    <tr>\n",
       "      <th>11</th>\n",
       "      <td>185</td>\n",
       "      <td>87</td>\n",
       "      <td>126</td>\n",
       "    </tr>\n",
       "    <tr>\n",
       "      <th>12</th>\n",
       "      <td>309</td>\n",
       "      <td>58</td>\n",
       "      <td>163</td>\n",
       "    </tr>\n",
       "    <tr>\n",
       "      <th>13</th>\n",
       "      <td>257</td>\n",
       "      <td>211</td>\n",
       "      <td>93</td>\n",
       "    </tr>\n",
       "    <tr>\n",
       "      <th>14</th>\n",
       "      <td>195</td>\n",
       "      <td>134</td>\n",
       "      <td>221</td>\n",
       "    </tr>\n",
       "    <tr>\n",
       "      <th>15</th>\n",
       "      <td>146</td>\n",
       "      <td>78</td>\n",
       "      <td>83</td>\n",
       "    </tr>\n",
       "    <tr>\n",
       "      <th>16</th>\n",
       "      <td>143</td>\n",
       "      <td>84</td>\n",
       "      <td>91</td>\n",
       "    </tr>\n",
       "  </tbody>\n",
       "</table>\n",
       "</div>"
      ],
      "text/plain": [
       "    MM6  diesel  blumarine\n",
       "0   545     125        550\n",
       "1   390     125        160\n",
       "2   390     105        924\n",
       "3   390     125        117\n",
       "4   190     125        168\n",
       "5   185     175        114\n",
       "6   325     150        119\n",
       "7   355     158        122\n",
       "8   325     100        119\n",
       "9   210      83        114\n",
       "10  210      97        114\n",
       "11  185      87        126\n",
       "12  309      58        163\n",
       "13  257     211         93\n",
       "14  195     134        221\n",
       "15  146      78         83\n",
       "16  143      84         91"
      ]
     },
     "execution_count": 31,
     "metadata": {},
     "output_type": "execute_result"
    }
   ],
   "source": [
    "tshirt_df['blumarine'] = blu_tshirt_prices\n",
    "tshirt_df['blumarine'] = tshirt_df['blumarine'].str.replace('$','').astype(int)\n",
    "tshirt_df"
   ]
  },
  {
   "cell_type": "code",
   "execution_count": 32,
   "metadata": {},
   "outputs": [
    {
     "name": "stdout",
     "output_type": "stream",
     "text": [
      "The minimum price for a blumarine tshirt is $83.\n",
      "The maxiumum price for a blumarine tshirt is $924.\n",
      "The average price for a blumarine tshirt is $199.88.\n"
     ]
    }
   ],
   "source": [
    "blu_tshirt_min = tshirt_df['blumarine'].min()\n",
    "print(f'The minimum price for a blumarine tshirt is ${blu_tshirt_min}.')\n",
    "\n",
    "blu_tshirt_max = tshirt_df['blumarine'].max()\n",
    "print(f'The maxiumum price for a blumarine tshirt is ${blu_tshirt_max}.')\n",
    "\n",
    "blu_tshirt_avg = tshirt_df['blumarine'].mean()\n",
    "print(f'The average price for a blumarine tshirt is ${round(blu_tshirt_avg,2)}.')"
   ]
  },
  {
   "cell_type": "code",
   "execution_count": 33,
   "metadata": {},
   "outputs": [],
   "source": [
    "# End the automated browsing section\n",
    "browser.quit()"
   ]
  },
  {
   "cell_type": "code",
   "execution_count": 34,
   "metadata": {},
   "outputs": [],
   "source": [
    "csv_filename = 'tshirts.csv'\n",
    "tshirt_df.to_csv(csv_filename, index=False)"
   ]
  },
  {
   "cell_type": "code",
   "execution_count": null,
   "metadata": {},
   "outputs": [],
   "source": []
  }
 ],
 "metadata": {
  "kernelspec": {
   "display_name": "Python 3 (ipykernel)",
   "language": "python",
   "name": "python3"
  },
  "language_info": {
   "codemirror_mode": {
    "name": "ipython",
    "version": 3
   },
   "file_extension": ".py",
   "mimetype": "text/x-python",
   "name": "python",
   "nbconvert_exporter": "python",
   "pygments_lexer": "ipython3",
   "version": "3.8.8"
  },
  "vscode": {
   "interpreter": {
    "hash": "31f2aee4e71d21fbe5cf8b01ff0e069b9275f58929596ceb00d14d90e3e16cd6"
   }
  }
 },
 "nbformat": 4,
 "nbformat_minor": 4
}
